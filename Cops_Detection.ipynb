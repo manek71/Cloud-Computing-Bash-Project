{
  "nbformat": 4,
  "nbformat_minor": 0,
  "metadata": {
    "colab": {
      "provenance": [],
      "authorship_tag": "ABX9TyOWg4fnToxhUGMPBN4Lca82",
      "include_colab_link": true
    },
    "kernelspec": {
      "name": "python3",
      "display_name": "Python 3"
    },
    "language_info": {
      "name": "python"
    }
  },
  "cells": [
    {
      "cell_type": "markdown",
      "metadata": {
        "id": "view-in-github",
        "colab_type": "text"
      },
      "source": [
        "<a href=\"https://colab.research.google.com/github/manek71/Cloud-Computing-Bash-Project/blob/main/Cops_Detection.ipynb\" target=\"_parent\"><img src=\"https://colab.research.google.com/assets/colab-badge.svg\" alt=\"Open In Colab\"/></a>"
      ]
    },
    {
      "cell_type": "code",
      "source": [
        "pip install pytesseract\n"
      ],
      "metadata": {
        "colab": {
          "base_uri": "https://localhost:8080/"
        },
        "id": "G1SI5nVvOTiw",
        "outputId": "710dc1ca-8497-45df-aa14-703fa658fc45"
      },
      "execution_count": 10,
      "outputs": [
        {
          "output_type": "stream",
          "name": "stdout",
          "text": [
            "Collecting pytesseract\n",
            "  Downloading pytesseract-0.3.10-py3-none-any.whl (14 kB)\n",
            "Requirement already satisfied: packaging>=21.3 in /usr/local/lib/python3.10/dist-packages (from pytesseract) (24.0)\n",
            "Requirement already satisfied: Pillow>=8.0.0 in /usr/local/lib/python3.10/dist-packages (from pytesseract) (9.4.0)\n",
            "Installing collected packages: pytesseract\n",
            "Successfully installed pytesseract-0.3.10\n"
          ]
        }
      ]
    },
    {
      "cell_type": "code",
      "source": [
        "from google.colab.patches import cv2_imshow\n",
        "import cv2\n",
        "import pytesseract\n",
        "\n",
        "# Function to detect emergency lights\n",
        "def detect_emergency_lights(frame):\n",
        "    # Implement object detection logic here\n",
        "    # You may use a pre-trained object detection model or train your own\n",
        "\n",
        "    # Placeholder logic: Assume emergency lights are always detected for demonstration\n",
        "    emergency_lights_detected = True\n",
        "\n",
        "    return emergency_lights_detected\n",
        "\n",
        "# Access video feed from camera\n",
        "cap = cv2.VideoCapture(0)\n",
        "\n",
        "if not cap.isOpened():\n",
        "    print(\"Error: Unable to access the camera.\")\n",
        "    exit()\n",
        "\n",
        "while True:\n",
        "    # Capture frame-by-frame\n",
        "    ret, frame = cap.read()\n",
        "\n",
        "    if not ret:\n",
        "        print(\"Error: Failed to capture frame from the camera.\")\n",
        "        break\n",
        "\n",
        "    # Preprocess frame for text detection\n",
        "    # (e.g., convert to grayscale, apply thresholding, noise reduction)\n",
        "    # Implement text detection logic using pytesseract or other OCR libraries\n",
        "\n",
        "    # Check if emergency lights are detected\n",
        "    emergency_lights_detected = detect_emergency_lights(frame)\n",
        "\n",
        "    # If emergency lights are detected or text related to police cars is detected\n",
        "    if emergency_lights_detected:\n",
        "        # Trigger alert mechanism (e.g., sound alarm, display warning message)\n",
        "\n",
        "        # Display the frame\n",
        "        cv2_imshow(frame)\n",
        "\n",
        "    # Exit if 'q' is pressed\n",
        "    if cv2.waitKey(1) & 0xFF == ord('q'):\n",
        "        break\n",
        "\n",
        "# Release the capture\n",
        "cap.release()\n",
        "cv2.destroyAllWindows()\n"
      ],
      "metadata": {
        "id": "BR-bSoAqP_di"
      },
      "execution_count": null,
      "outputs": []
    },
    {
      "cell_type": "markdown",
      "source": [
        "In addition to error handling, there are several other modifications and improvements that can be made to the code for better functionality and performance. Here are some suggestions:\n",
        "\n",
        "Frame Processing Optimization: Implement efficient preprocessing techniques to enhance the quality of frames for text and emergency light detection. This may include techniques such as resizing, denoising, and histogram equalization.\n",
        "\n",
        "Multithreading or Multiprocessing: Implement multithreading or multiprocessing to improve the efficiency of frame processing and detection. This can help avoid delays in frame processing, especially when dealing with large video feeds or complex detection algorithms.\n",
        "\n",
        "Thresholding and Filtering: Apply thresholding techniques to filter out noise and improve the accuracy of text detection. Experiment with different threshold values and filtering methods to optimize performance.\n",
        "\n",
        "Dynamic Alert Mechanism: Implement a dynamic alert mechanism that adjusts the intensity or frequency of alerts based on the severity of the detected threat (e.g., proximity of police car, brightness of emergency lights).\n",
        "\n",
        "Integration with GPS or Location Services: Integrate the system with GPS or location services to provide additional context for alerting the driver about nearby police cars. This can help prioritize alerts based on the proximity of the detected threat.\n",
        "\n",
        "User Interface Enhancements: Develop a user-friendly interface to display alerts and interact with the user. This may include features such as customizable alert tones, visual indicators, and options to adjust alert settings.\n",
        "\n",
        "Logging and Analytics: Implement logging functionality to record detected events, timestamps, and relevant metadata for analysis and troubleshooting. This can help improve the system's performance and provide valuable insights for future optimizations.\n",
        "\n",
        "Continuous Improvement and Testing: Regularly update and fine-tune the detection algorithms based on feedback and real-world testing. Conduct thorough testing in various scenarios and environments to ensure the reliability and accuracy of the system."
      ],
      "metadata": {
        "id": "BfO4HA9XSU2Q"
      }
    },
    {
      "cell_type": "code",
      "source": [
        "import cv2\n",
        "import pytesseract\n",
        "\n",
        "# Function to detect emergency lights\n",
        "def detect_emergency_lights(frame):\n",
        "    # Placeholder logic: Assume emergency lights are always detected for demonstration\n",
        "    emergency_lights_detected = True\n",
        "\n",
        "    return emergency_lights_detected\n",
        "\n",
        "# Function to calculate alert intensity based on threat severity\n",
        "def calculate_alert_intensity(threat_severity):\n",
        "    if threat_severity == 'low':\n",
        "        return 'Low intensity alert'\n",
        "    elif threat_severity == 'medium':\n",
        "        return 'Medium intensity alert'\n",
        "    elif threat_severity == 'high':\n",
        "        return 'High intensity alert'\n",
        "    else:\n",
        "        return 'Unknown threat severity'\n",
        "\n",
        "# Access video feed from camera\n",
        "cap = cv2.VideoCapture(0)\n",
        "\n",
        "# Initial threat severity (placeholder value)\n",
        "threat_severity = 'low'\n",
        "\n",
        "while True:\n",
        "    # Capture frame-by-frame\n",
        "    ret, frame = cap.read()\n",
        "\n",
        "    # Preprocess frame for text detection\n",
        "    # (e.g., convert to grayscale, apply thresholding, noise reduction)\n",
        "    # Implement text detection logic using pytesseract or other OCR libraries\n",
        "\n",
        "    # Check if emergency lights are detected\n",
        "    emergency_lights_detected = detect_emergency_lights(frame)\n",
        "\n",
        "    # Update threat severity based on detection results\n",
        "    if emergency_lights_detected:\n",
        "        threat_severity = 'high'  # Example: Emergency lights detected, set threat severity to high\n",
        "    else:\n",
        "        threat_severity = 'low'  # Example: No emergency lights detected, set threat severity to low\n",
        "\n",
        "    # Calculate alert intensity based on threat severity\n",
        "    alert_intensity = calculate_alert_intensity(threat_severity)\n",
        "\n",
        "    # Display alert message\n",
        "    print(alert_intensity)\n",
        "\n",
        "    # Exit if 'q' is pressed\n",
        "    if cv2.waitKey(1) & 0xFF == ord('q'):\n",
        "        break\n",
        "\n",
        "# Release the capture\n",
        "cap.release()\n"
      ],
      "metadata": {
        "id": "3q0bDrNUQESR"
      },
      "execution_count": null,
      "outputs": []
    },
    {
      "cell_type": "markdown",
      "source": [
        "In this code:\n",
        "\n",
        "We have a placeholder function detect_emergency_lights() that simulates the detection of emergency lights. You would replace this with your actual emergency light detection logic.\n",
        "We have a function calculate_alert_intensity() that takes the threat severity as input and returns the corresponding alert intensity. You can adjust the thresholds and alert levels as needed.\n",
        "We continuously update the threat severity based on the detection results (in this case, the presence of emergency lights). The threat severity is used to calculate the alert intensity, which is then displayed as the alert message.\n",
        "The code runs in a loop to continuously capture frames from the camera and update the alert intensity based on the detected threat severity. The loop exits when 'q' is pressed."
      ],
      "metadata": {
        "id": "3ES5JI9URgRP"
      }
    },
    {
      "cell_type": "code",
      "source": [
        "import cv2\n",
        "import pytesseract\n",
        "import logging\n",
        "from datetime import datetime\n",
        "\n",
        "# Configure logging\n",
        "logging.basicConfig(filename='alert.log', level=logging.INFO, format='%(asctime)s - %(levelname)s: %(message)s')\n",
        "\n",
        "# Function to detect emergency lights\n",
        "def detect_emergency_lights(frame):\n",
        "    # Placeholder logic: Assume emergency lights are always detected for demonstration\n",
        "    emergency_lights_detected = True\n",
        "\n",
        "    return emergency_lights_detected\n",
        "\n",
        "# Function to calculate alert intensity based on threat severity\n",
        "def calculate_alert_intensity(threat_severity):\n",
        "    if threat_severity == 'low':\n",
        "        return 'Low intensity alert'\n",
        "    elif threat_severity == 'medium':\n",
        "        return 'Medium intensity alert'\n",
        "    elif threat_severity == 'high':\n",
        "        return 'High intensity alert'\n",
        "    else:\n",
        "        return 'Unknown threat severity'\n",
        "\n",
        "# Access video feed from camera\n",
        "cap = cv2.VideoCapture(0)\n",
        "\n",
        "# Initial threat severity (placeholder value)\n",
        "threat_severity = 'low'\n",
        "\n",
        "while True:\n",
        "    # Capture frame-by-frame\n",
        "    ret, frame = cap.read()\n",
        "\n",
        "    # Preprocess frame for text detection\n",
        "    # (e.g., convert to grayscale, apply thresholding, noise reduction)\n",
        "    # Implement text detection logic using pytesseract or other OCR libraries\n",
        "\n",
        "    # Check if emergency lights are detected\n",
        "    emergency_lights_detected = detect_emergency_lights(frame)\n",
        "\n",
        "    # Update threat severity based on detection results\n",
        "    if emergency_lights_detected:\n",
        "        threat_severity = 'high'  # Example: Emergency lights detected, set threat severity to high\n",
        "    else:\n",
        "        threat_severity = 'low'  # Example: No emergency lights detected, set threat severity to low\n",
        "\n",
        "    # Calculate alert intensity based on threat severity\n",
        "    alert_intensity = calculate_alert_intensity(threat_severity)\n",
        "\n",
        "    # Display alert message\n",
        "    print(alert_intensity)\n",
        "\n",
        "    # Log the detected event with timestamp and relevant metadata\n",
        "    logging.info(f'Detected event: {alert_intensity}, Timestamp: {datetime.now()}, Threat severity: {threat_severity}')\n",
        "\n",
        "    # Exit if 'q' is pressed\n",
        "    if cv2.waitKey(1) & 0xFF == ord('q'):\n",
        "        break\n",
        "\n",
        "# Release the capture\n",
        "cap.release()\n"
      ],
      "metadata": {
        "id": "3xQY5H4hRnM_"
      },
      "execution_count": null,
      "outputs": []
    },
    {
      "cell_type": "markdown",
      "source": [
        "In this code:\n",
        "\n",
        "We import the logging module and configure logging to write logs to a file named alert.log, set the logging level to INFO, and specify the log message format.\n",
        "We use the logging.info() function to log detected events along with the current timestamp and relevant metadata.\n",
        "The log file will contain entries for each detected event, providing valuable information for analysis and troubleshooting.\n"
      ],
      "metadata": {
        "id": "21Y_Hxj-TJid"
      }
    }
  ]
}